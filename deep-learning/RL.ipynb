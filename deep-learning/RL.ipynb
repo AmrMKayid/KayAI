{
  "nbformat": 4,
  "nbformat_minor": 0,
  "metadata": {
    "colab": {
      "name": "RL.ipynb",
      "provenance": [],
      "collapsed_sections": [
        "jrI6q7RmWQam"
      ]
    },
    "kernelspec": {
      "name": "python3",
      "display_name": "Python 3"
    },
    "accelerator": "GPU"
  },
  "cells": [
    {
      "cell_type": "markdown",
      "metadata": {
        "id": "jrI6q7RmWQam",
        "colab_type": "text"
      },
      "source": [
        "<table align=\"center\">\n",
        "  <td align=\"center\"><a target=\"_blank\" href=\"http://introtodeeplearning.com\">\n",
        "        <img src=\"http://introtodeeplearning.com/images/colab/mit.png\" style=\"padding-bottom:5px;\" />\n",
        "      Visit MIT Deep Learning</a></td>\n",
        "  <td align=\"center\"><a target=\"_blank\" href=\"https://colab.research.google.com/github/aamini/introtodeeplearning/blob/master/lab3/RL.ipynb\">\n",
        "        <img src=\"http://introtodeeplearning.com/images/colab/colab.png?v2.0\"  style=\"padding-bottom:5px;\" />Run in Google Colab</a></td>\n",
        "  <td align=\"center\"><a target=\"_blank\" href=\"https://github.com/aamini/introtodeeplearning/blob/master/lab3/RL.ipynb\">\n",
        "        <img src=\"http://introtodeeplearning.com/images/colab/github.png\"  height=\"70px\" style=\"padding-bottom:5px;\"  />View Source on GitHub</a></td>\n",
        "</table>\n",
        "\n",
        "# Copyright Information"
      ]
    },
    {
      "cell_type": "code",
      "metadata": {
        "id": "wkd375upWYok",
        "colab_type": "code",
        "colab": {}
      },
      "source": [
        "# Copyright 2020 MIT 6.S191 Introduction to Deep Learning. All Rights Reserved.\n",
        "# \n",
        "# Licensed under the MIT License. You may not use this file except in compliance\n",
        "# with the License. Use and/or modification of this code outside of 6.S191 must\n",
        "# reference:\n",
        "#\n",
        "# © MIT 6.S191: Introduction to Deep Learning\n",
        "# http://introtodeeplearning.com\n",
        "#"
      ],
      "execution_count": 0,
      "outputs": []
    },
    {
      "cell_type": "markdown",
      "metadata": {
        "id": "WoXYKhfZMHiw",
        "colab_type": "text"
      },
      "source": [
        "# Laboratory 3: Reinforcement Learning\n",
        "\n",
        "Reinforcement learning (RL) is a subset of machine learning which poses learning problems as interactions between agents and environments. It often assumes agents have no prior knowledge of a world, so they must learn to navigate environments by optimizing a reward function. Within an environment, an agent can take certain actions and receive feedback, in the form of positive or negative rewards, with respect to their decision. As such, an agent's feedback loop is somewhat akin to the idea of \"trial and error\", or the manner in which a child might learn to distinguish between \"good\" and \"bad\" actions.\n",
        "\n",
        "In practical terms, our RL agent will interact with the environment by taking an action at each timestep, receiving a corresponding reward, and updating its state according to what it has \"learned\".  \n",
        "\n",
        "![alt text](https://www.kdnuggets.com/images/reinforcement-learning-fig1-700.jpg)\n",
        "\n",
        "While the ultimate goal of reinforcement learning is to teach agents to act in the real, physical world, games provide a convenient proving ground for developing RL algorithms and agents. Games have some properties that make them particularly well suited for RL: \n",
        "\n",
        "1.   In many cases, games have perfectly describable environments. For example, all rules of chess can be formally written and programmed into a chess game simulator;\n",
        "2.   Games are massively parallelizable. Since they do not require running in the real world, simultaneous environments can be run on large data clusters; \n",
        "3.   Simpler scenarios in games enable fast prototyping. This speeds up the development of algorithms that could eventually run in the real-world; and\n",
        "4.   ... Games are fun! \n",
        "\n",
        "In previous labs, we have explored both supervised (with LSTMs, CNNs) and unsupervised / semi-supervised (with VAEs) learning tasks. Reinforcement learning is fundamentally different, in that we are training a deep learning algorithm to govern the actions of our RL agent, that is trying, within its environment, to find the optimal way to achieve a goal. The goal of training an RL agent is to determine the best next step to take to earn the greatest final payoff or return. In this lab, we focus on building a reinforcement learning algorithm to master two different environments with varying complexity. \n",
        "\n",
        "1.   **Cartpole**:   Balance a pole, protruding from a cart, in an upright position by only moving the base left or right. Environment with a low-dimensional observation space.\n",
        "2.   [**Pong**](https://en.wikipedia.org/wiki/Pong): Beat your competitors (whether other AI or humans!) at the game of Pong. Environment with a high-dimensional observation space -- learning directly from raw pixels.\n",
        "\n",
        "Let's get started! First we'll import TensorFlow, the course package, and some dependencies.\n"
      ]
    },
    {
      "cell_type": "code",
      "metadata": {
        "id": "EvdePP-VyVWp",
        "colab_type": "code",
        "colab": {
          "base_uri": "https://localhost:8080/",
          "height": 372
        },
        "outputId": "f0328e36-d5f3-441f-e86e-2a75230d68cd"
      },
      "source": [
        "!apt-get install -y xvfb python-opengl x11-utils > /dev/null 2>&1\n",
        "!pip install gym pyvirtualdisplay scikit-video > /dev/null 2>&1\n",
        "\n",
        "%tensorflow_version 2.x\n",
        "import tensorflow as tf\n",
        "\n",
        "import numpy as np\n",
        "import base64, io, time, gym\n",
        "import IPython, functools\n",
        "import matplotlib.pyplot as plt\n",
        "from tqdm import tqdm\n",
        "\n",
        "!pip install mitdeeplearning\n",
        "import mitdeeplearning as mdl"
      ],
      "execution_count": 1,
      "outputs": [
        {
          "output_type": "stream",
          "text": [
            "TensorFlow 2.x selected.\n",
            "Collecting mitdeeplearning\n",
            "\u001b[?25l  Downloading https://files.pythonhosted.org/packages/8b/3b/b9174b68dc10832356d02a2d83a64b43a24f1762c172754407d22fc8f960/mitdeeplearning-0.1.2.tar.gz (2.1MB)\n",
            "\u001b[K     |████████████████████████████████| 2.1MB 8.3MB/s \n",
            "\u001b[?25hRequirement already satisfied: numpy in /tensorflow-2.1.0/python3.6 (from mitdeeplearning) (1.18.1)\n",
            "Requirement already satisfied: regex in /usr/local/lib/python3.6/dist-packages (from mitdeeplearning) (2019.12.20)\n",
            "Requirement already satisfied: tqdm in /usr/local/lib/python3.6/dist-packages (from mitdeeplearning) (4.28.1)\n",
            "Requirement already satisfied: gym in /usr/local/lib/python3.6/dist-packages (from mitdeeplearning) (0.15.6)\n",
            "Requirement already satisfied: six in /tensorflow-2.1.0/python3.6 (from gym->mitdeeplearning) (1.14.0)\n",
            "Requirement already satisfied: scipy in /tensorflow-2.1.0/python3.6 (from gym->mitdeeplearning) (1.4.1)\n",
            "Requirement already satisfied: pyglet<=1.5.0,>=1.4.0 in /usr/local/lib/python3.6/dist-packages (from gym->mitdeeplearning) (1.4.10)\n",
            "Requirement already satisfied: cloudpickle~=1.2.0 in /usr/local/lib/python3.6/dist-packages (from gym->mitdeeplearning) (1.2.2)\n",
            "Requirement already satisfied: future in /usr/local/lib/python3.6/dist-packages (from pyglet<=1.5.0,>=1.4.0->gym->mitdeeplearning) (0.16.0)\n",
            "Building wheels for collected packages: mitdeeplearning\n",
            "  Building wheel for mitdeeplearning (setup.py) ... \u001b[?25l\u001b[?25hdone\n",
            "  Created wheel for mitdeeplearning: filename=mitdeeplearning-0.1.2-cp36-none-any.whl size=2114586 sha256=567386fb50bb8e4b5e9be645399460ceb687f2b5072898fa3da2480577e08a74\n",
            "  Stored in directory: /root/.cache/pip/wheels/27/e1/73/5f01c787621d8a3c857f59876c79e304b9b64db9ff5bd61b74\n",
            "Successfully built mitdeeplearning\n",
            "Installing collected packages: mitdeeplearning\n",
            "Successfully installed mitdeeplearning-0.1.2\n"
          ],
          "name": "stdout"
        }
      ]
    },
    {
      "cell_type": "markdown",
      "metadata": {
        "id": "zmrHSiXKTXTY",
        "colab_type": "text"
      },
      "source": [
        "Before we dive in, let's take a step back and outline our approach, which is generally applicable to reinforcement learning problems in general:\n",
        "\n",
        "1. **Initialize our environment and our agent**: here we will describe the different observations and actions the agent can make in the environemnt.\n",
        "2. **Define our agent's memory**: this will enable the agent to remember its past actions, observations, and rewards.\n",
        "3. **Define a reward function**: describes the reward associated with an action or sequence of actions.\n",
        "4. **Define the learning algorithm**: this will be used to reinforce the agent's good behaviors and discourage bad behaviors.\n"
      ]
    },
    {
      "cell_type": "markdown",
      "metadata": {
        "id": "UT7YL8KBJIIc",
        "colab_type": "text"
      },
      "source": [
        "# Part 1: Cartpole\n",
        "\n",
        "## 3.1 Define the Cartpole environment and agent\n",
        "\n",
        "### Environment \n",
        "\n",
        "In order to model the environment for both the Cartpole and Pong tasks, we'll be using a toolkit developed by OpenAI called [OpenAI Gym](https://gym.openai.com/). It provides several pre-defined environments for training and testing reinforcement learning agents, including those for classic physics control tasks, Atari video games, and robotic simulations. To access the Cartpole environment, we can use `env = gym.make(\"CartPole-v0\")`, which we gained access to when we imported the `gym` package. We can instantiate different [environments](https://gym.openai.com/envs/#classic_control) by passing the enivronment name to the `make` function.\n",
        "\n",
        "One issue we might experience when developing RL algorithms is that many aspects of the learning process are inherently random: initializing game states, changes in the environment, and the agent's actions. As such, it can be helpful to set a initial \"seed\" for the environment to ensure some level of reproducibility. Much like you might use `numpy.random.seed`, we can call the comparable function in gym, `seed`, with our defined environment to ensure the environment's random variables are initialized the same each time."
      ]
    },
    {
      "cell_type": "code",
      "metadata": {
        "id": "quv9SC0iIYFm",
        "colab_type": "code",
        "colab": {
          "base_uri": "https://localhost:8080/",
          "height": 70
        },
        "outputId": "bdee0d58-f3ea-4643-c923-f59b7cafcff8"
      },
      "source": [
        "### Instantiate the Cartpole environment ###\n",
        "\n",
        "env = gym.make(\"CartPole-v0\")\n",
        "env.seed(1)"
      ],
      "execution_count": 2,
      "outputs": [
        {
          "output_type": "stream",
          "text": [
            "/usr/local/lib/python3.6/dist-packages/gym/logger.py:30: UserWarning: \u001b[33mWARN: Box bound precision lowered by casting to float32\u001b[0m\n",
            "  warnings.warn(colorize('%s: %s'%('WARN', msg % args), 'yellow'))\n"
          ],
          "name": "stderr"
        },
        {
          "output_type": "execute_result",
          "data": {
            "text/plain": [
              "[1]"
            ]
          },
          "metadata": {
            "tags": []
          },
          "execution_count": 2
        }
      ]
    },
    {
      "cell_type": "markdown",
      "metadata": {
        "id": "mhEITUcKK455",
        "colab_type": "text"
      },
      "source": [
        "In Cartpole, a pole is attached by an un-actuated joint to a cart, which moves along a frictionless track. The pole starts upright, and the goal is to prevent it from falling over. The system is controlled by applying a force of +1 or -1 to the cart. A reward of +1 is provided for every timestep that the pole remains upright. The episode ends when the pole is more than 15 degrees from vertical, or the cart moves more than 2.4 units from the center of the track. A visual summary of the cartpole environment is depicted below:\n",
        "\n",
        "<img width=\"400px\" src=\"https://danielpiedrahita.files.wordpress.com/2017/02/cart-pole.png\"></img>\n",
        "\n",
        "Given this setup for the environment and the objective of the game, we can think about: 1) what observations help define the environment's state; 2) what actions the agent can take. \n",
        "\n",
        "First, let's consider the observation space. In this Cartpole environment our observations are:\n",
        "\n",
        "1. Cart position\n",
        "2. Cart velocity\n",
        "3. Pole angle\n",
        "4. Pole rotation rate\n",
        "\n",
        "We can confirm the size of the space by querying the environment's observation space:\n"
      ]
    },
    {
      "cell_type": "code",
      "metadata": {
        "id": "UVJaEcbdIX82",
        "colab_type": "code",
        "colab": {
          "base_uri": "https://localhost:8080/",
          "height": 34
        },
        "outputId": "2bc76e36-a594-451e-a9af-2b71fd21273c"
      },
      "source": [
        "n_observations = env.observation_space\n",
        "print(\"Environment has observation space =\", n_observations)"
      ],
      "execution_count": 3,
      "outputs": [
        {
          "output_type": "stream",
          "text": [
            "Environment has observation space = Box(4,)\n"
          ],
          "name": "stdout"
        }
      ]
    },
    {
      "cell_type": "markdown",
      "metadata": {
        "id": "ZibGgjrALgPM",
        "colab_type": "text"
      },
      "source": [
        "Second, we consider the action space. At every time step, the agent can move either right or left. Again we can confirm the size of the action space by querying the environment:"
      ]
    },
    {
      "cell_type": "code",
      "metadata": {
        "id": "qc9SIPxBIXrm",
        "colab_type": "code",
        "colab": {
          "base_uri": "https://localhost:8080/",
          "height": 34
        },
        "outputId": "fd09c2c4-8239-4008-cfc9-b73560241acc"
      },
      "source": [
        "n_actions = env.action_space.n\n",
        "print(\"Number of possible actions that the agent can choose from =\", n_actions)"
      ],
      "execution_count": 4,
      "outputs": [
        {
          "output_type": "stream",
          "text": [
            "Number of possible actions that the agent can choose from = 2\n"
          ],
          "name": "stdout"
        }
      ]
    },
    {
      "cell_type": "markdown",
      "metadata": {
        "id": "pPfHME8aRKkb",
        "colab_type": "text"
      },
      "source": [
        "### Cartpole agent\n",
        "\n",
        "Now that we have instantiated the environment and understood the dimensionality of the observation and action spaces, we are ready to define our agent. In deep reinforcement learning, a deep neural network defines the agent. This network will take as input an observation of the environment and output the probability of taking each of the possible actions. Since Cartpole is defined by a low-dimensional observation space, a simple feed-forward neural network should work well for our agent. We will define this using the `Sequential` API.\n"
      ]
    },
    {
      "cell_type": "code",
      "metadata": {
        "id": "W-o_XK4oQ4eu",
        "colab_type": "code",
        "colab": {}
      },
      "source": [
        "### Define the Cartpole agent ###\n",
        "\n",
        "# Defines a feed-forward neural network\n",
        "def create_cartpole_model():\n",
        "  model = tf.keras.models.Sequential([\n",
        "      # First Dense layer\n",
        "      tf.keras.layers.Dense(units=32, activation='relu'),\n",
        "\n",
        "      # TODO: Define the last Dense layer, which will provide the network's output.\n",
        "      # Think about the space the agent needs to act in!\n",
        "      # '''TODO: Dense layer to output action probabilities'''\n",
        "      tf.keras.layers.Dense(units=n_actions),\n",
        "  ])\n",
        "  return model\n",
        "\n",
        "cartpole_model = create_cartpole_model()"
      ],
      "execution_count": 0,
      "outputs": []
    },
    {
      "cell_type": "markdown",
      "metadata": {
        "id": "d5D5NSIYS2IW",
        "colab_type": "text"
      },
      "source": [
        "Now that we have defined the core network architecture, we will define an *action function* that executes a forward pass through the network, given a set of observations, and samples from the output. This sampling from the output probabilities will be used to select the next action for the agent. \n",
        "\n",
        "**Critically, this action function is totally general -- we will use this function for both Cartpole and Pong, and it is applicable to other RL tasks, as well!**"
      ]
    },
    {
      "cell_type": "code",
      "metadata": {
        "id": "E_vVZRr8Q4R_",
        "colab_type": "code",
        "colab": {}
      },
      "source": [
        "### Define the agent's action function ###\n",
        "\n",
        "# Function that takes observations as input, executes a forward pass through model, \n",
        "#   and outputs a sampled action.\n",
        "# Arguments:\n",
        "#   model: the network that defines our agent\n",
        "#   observation: observation which is fed as input to the model\n",
        "# Returns:\n",
        "#   action: choice of agent action\n",
        "def choose_action(model, observation):\n",
        "  # add batch dimension to the observation\n",
        "  observation = np.expand_dims(observation, axis=0)\n",
        "\n",
        "  '''TODO: feed the observations through the model to predict the log probabilities of each possible action.'''\n",
        "  logits = model.predict(observation)\n",
        "  \n",
        "  # pass the log probabilities through a softmax to compute true probabilities\n",
        "  prob_weights = tf.nn.softmax(logits).numpy()\n",
        "  \n",
        "  '''TODO: randomly sample from the prob_weights to pick an action.\n",
        "  Hint: carefully consider the dimensionality of the input probabilities (vector) and the output action (scalar)'''\n",
        "  action = np.random.choice(n_actions, size=1, p=prob_weights.flatten())[0]\n",
        "\n",
        "  return action"
      ],
      "execution_count": 0,
      "outputs": []
    },
    {
      "cell_type": "markdown",
      "metadata": {
        "id": "_tR9uAWcTnkr",
        "colab_type": "text"
      },
      "source": [
        "## 3.2 Define the agent's memory\n",
        "\n",
        "Now that we have instantiated the environment and defined the agent network architecture and action function, we are ready to move on to the next step in our RL workflow:\n",
        "1. **Initialize our environment and our agent**: here we will describe the different observations and actions the agent can make in the environemnt.\n",
        "2. **Define our agent's memory**: this will enable the agent to remember its past actions, observations, and rewards.\n",
        "3. **Define the learning algorithm**: this will be used to reinforce the agent's good behaviors and discourage bad behaviors.\n",
        "\n",
        "In reinforcement learning, training occurs alongside the agent's acting in the environment; an *episode* refers to a sequence of actions that ends in some terminal state, such as the pole falling down or the cart crashing. The agent will need to remember all of its observations and actions, such that once an episode ends, it can learn to \"reinforce\" the good actions and punish the undesirable actions via training. Our first step is to define a simple memory buffer that contains the agent's observations, actions, and received rewards from a given episode. \n",
        "\n",
        "**Once again, note the modularity of this memory buffer -- it can and will be applied to other RL tasks as well!**"
      ]
    },
    {
      "cell_type": "code",
      "metadata": {
        "id": "8MM6JwXVQ4JG",
        "colab_type": "code",
        "colab": {}
      },
      "source": [
        "### Agent Memory ###\n",
        "\n",
        "class Memory:\n",
        "  def __init__(self): \n",
        "      self.clear()\n",
        "\n",
        "  # Resets/restarts the memory buffer\n",
        "  def clear(self): \n",
        "      self.observations = []\n",
        "      self.actions = []\n",
        "      self.rewards = []\n",
        "\n",
        "  # Add observations, actions, rewards to memory\n",
        "  def add_to_memory(self, new_observation, new_action, new_reward): \n",
        "      self.observations.append(new_observation)\n",
        "      # '''TODO: update the list of actions with new action'''\n",
        "      # TODO: your update code here\n",
        "      self.actions.append(new_action)\n",
        "      # '''TODO: update the list of rewards with new reward'''\n",
        "      # TODO: your update code here\n",
        "      self.rewards.append(new_reward)\n",
        "        \n",
        "memory = Memory()"
      ],
      "execution_count": 0,
      "outputs": []
    },
    {
      "cell_type": "markdown",
      "metadata": {
        "id": "D4YhtPaUVj5m",
        "colab_type": "text"
      },
      "source": [
        "## 3.3 Reward function\n",
        "\n",
        "We're almost ready to begin the learning algorithm for our agent! The next step is to compute the rewards of our agent as it acts in the environment. Since we (and the agent) is uncertain about if and when the game or task will end (i.e., when the pole will fall), it is useful to emphasize getting rewards **now** rather than later in the future -- this is the idea of discounting. This is a similar concept to discounting money in the case of interest. ecall from lecture, we use reward discount to give more preference at getting rewards now rather than later in the future. The idea of discounting rewards is similar to discounting money in the case of interest.\n",
        "\n",
        "To compute the expected cumulative reward, known as the **return**, at a given timestep in a learning episode, we sum the discounted rewards expected at that time step $t$, within a learning episode, and projecting into the future. We define the return (cumulative reward) at a time step $t$, $R_{t}$ as:\n",
        "\n",
        ">$R_{t}=\\sum_{k=0}^\\infty\\gamma^kr_{t+k}$\n",
        "\n",
        "where  $0 < \\gamma < 1$ is the discount factor and $r_{t}$ is the reward at time step $t$, and the index $k$ increments projection into the future within a single learning episode. Intuitively, you can think of this function as depreciating any rewards received at later time steps, which will force the agent prioritize getting rewards now. Since we can't extend episodes to infinity, in practice the computation will be limited to the number of timesteps in an episode -- after that the reward is assumed to be zero.\n",
        "\n",
        "Take note of the form of this sum -- we'll have to be clever about how we implement this function. Specifically, we'll need to initialize an array of zeros, with length of the number of time steps, and fill it with the real discounted reward values as we loop through the rewards from the episode, which will have been saved in the agents memory. What we ultimately care about is which actions are better relative to other actions taken in that episode -- so, we'll normalize our computed rewards, using the mean and standard deviation of the rewards across the learning episode.\n"
      ]
    },
    {
      "cell_type": "code",
      "metadata": {
        "id": "5_Q2OFYtQ32X",
        "colab_type": "code",
        "colab": {}
      },
      "source": [
        "### Reward function ###\n",
        "\n",
        "# Helper function that normalizes an np.array x\n",
        "def normalize(x):\n",
        "  x -= np.mean(x)\n",
        "  x /= np.std(x)\n",
        "  return x.astype(np.float32)\n",
        "\n",
        "# Compute normalized, discounted, cumulative rewards (i.e., return)\n",
        "# Arguments:\n",
        "#   rewards: reward at timesteps in episode\n",
        "#   gamma: discounting factor\n",
        "# Returns:\n",
        "#   normalized discounted reward\n",
        "def discount_rewards(rewards, gamma=0.95): \n",
        "  discounted_rewards = np.zeros_like(rewards)\n",
        "  R = 0\n",
        "  for t in reversed(range(0, len(rewards))):\n",
        "      # update the total discounted reward\n",
        "      R = R * gamma + rewards[t]\n",
        "      discounted_rewards[t] = R\n",
        "      \n",
        "  return normalize(discounted_rewards)"
      ],
      "execution_count": 0,
      "outputs": []
    },
    {
      "cell_type": "markdown",
      "metadata": {
        "id": "QzbY-mjGYcmt",
        "colab_type": "text"
      },
      "source": [
        "## 3.4 Learning algorithm\n",
        "\n",
        "Now we can start to define the learing algorithm which will be used to reinforce good behaviors of the agent and discourage bad behaviours. In this lab, we will focus on *policy gradient* methods which aim to **maximize** the likelihood of actions that result in large rewards. Equivalently, this means that we want to **minimize** the negative likelihood of these same actions. We achieve this by simply **scaling** the probabilities by their associated rewards -- effectively amplifying the likelihood of actions that resujlt in large rewards.\n",
        "\n",
        "Since the log function is monotonically increasing, this means that minimizing **negative likelihood** is equivalent to minimizing **negative log-likelihood**.  Recall that we can easily compute the negative log-likelihood of a discrete action by evaluting its [softmax cross entropy](https://www.tensorflow.org/api_docs/python/tf/nn/sparse_softmax_cross_entropy_with_logits). Like in supervised learning, we can use stochastic gradient descent methods to achieve the desired minimization. \n",
        "\n",
        "Let's begin by defining the loss function."
      ]
    },
    {
      "cell_type": "code",
      "metadata": {
        "id": "fsgZ3IDCY_Zn",
        "colab_type": "code",
        "colab": {}
      },
      "source": [
        "### Loss function ###\n",
        "\n",
        "# Arguments:\n",
        "#   logits: network's predictions for actions to take\n",
        "#   actions: the actions the agent took in an episode\n",
        "#   rewards: the rewards the agent received in an episode\n",
        "# Returns:\n",
        "#   loss\n",
        "def compute_loss(logits, actions, rewards): \n",
        "  '''TODO: complete the function call to compute the negative log probabilities'''\n",
        "  neg_logprob = tf.nn.sparse_softmax_cross_entropy_with_logits(logits=logits, labels=actions)\n",
        "  \n",
        "  '''TODO: scale the negative log probability by the rewards'''\n",
        "  loss = tf.reduce_mean(rewards * neg_logprob)\n",
        "  return loss"
      ],
      "execution_count": 0,
      "outputs": []
    },
    {
      "cell_type": "markdown",
      "metadata": {
        "id": "Rr5vQ9fqbPpp",
        "colab_type": "text"
      },
      "source": [
        "Now let's use the loss function to define a training step of our learning algorithm:"
      ]
    },
    {
      "cell_type": "code",
      "metadata": {
        "id": "_50ada7nbZ7L",
        "colab_type": "code",
        "colab": {}
      },
      "source": [
        "### Training step (forward and backpropagation) ###\n",
        "\n",
        "def train_step(model, optimizer, observations, actions, discounted_rewards):\n",
        "  with tf.GradientTape() as tape:\n",
        "      # Forward propagate through the agent network\n",
        "      logits = model(observations)\n",
        "\n",
        "      '''TODO: call the compute_loss function to compute the loss'''\n",
        "      loss = compute_loss(logits, actions, discounted_rewards)\n",
        "\n",
        "  '''TODO: run backpropagation to minimize the loss using the tape.gradient method.\n",
        "      Use `model.trainable_variables`'''\n",
        "  grads = tape.gradient(loss, model.trainable_variables)\n",
        "  optimizer.apply_gradients(zip(grads, model.trainable_variables))\n"
      ],
      "execution_count": 0,
      "outputs": []
    },
    {
      "cell_type": "markdown",
      "metadata": {
        "id": "XsjKXh6BcgjR",
        "colab_type": "text"
      },
      "source": [
        "## 3.5 Run cartpole!\n",
        "\n",
        "Having had no prior knowledge of the environment, the agent will begin to learn how to balance the pole on the cart based only on the feedback received from the environment! Having defined how our agent can move, how it takes in new observations, and how it updates its state, we'll see how it gradually learns a policy of actions to optimize balancing the pole as long as possible. To do this, we'll track how the rewards evolve as a function of training -- how should the rewards change as training progresses?"
      ]
    },
    {
      "cell_type": "code",
      "metadata": {
        "id": "XmOzc2rrcn8Q",
        "colab_type": "code",
        "colab": {
          "base_uri": "https://localhost:8080/",
          "height": 546
        },
        "outputId": "be2e094a-78df-4d7e-d978-9a8135c4b6f1"
      },
      "source": [
        "### Cartpole training! ###\n",
        "\n",
        "# Learning rate and optimizer\n",
        "learning_rate = 1e-3\n",
        "optimizer = tf.keras.optimizers.Adam(learning_rate)\n",
        "\n",
        "# instantiate cartpole agent\n",
        "cartpole_model = create_cartpole_model()\n",
        "\n",
        "# to track our progress\n",
        "smoothed_reward = mdl.util.LossHistory(smoothing_factor=0.9)\n",
        "plotter = mdl.util.PeriodicPlotter(sec=2, xlabel='Iterations', ylabel='Rewards')\n",
        "\n",
        "if hasattr(tqdm, '_instances'): tqdm._instances.clear() # clear if it exists\n",
        "for i_episode in range(500):\n",
        "\n",
        "  plotter.plot(smoothed_reward.get())\n",
        "\n",
        "  # Restart the environment\n",
        "  observation = env.reset()\n",
        "  memory.clear()\n",
        "\n",
        "  while True:\n",
        "      # using our observation, choose an action and take it in the environment\n",
        "      action = choose_action(cartpole_model, observation)\n",
        "      next_observation, reward, done, info = env.step(action)\n",
        "      # add to memory\n",
        "      memory.add_to_memory(observation, action, reward)\n",
        "      \n",
        "      # is the episode over? did you crash or do so well that you're done?\n",
        "      if done:\n",
        "          # determine total reward and keep a record of this\n",
        "          total_reward = sum(memory.rewards)\n",
        "          smoothed_reward.append(total_reward)\n",
        "          \n",
        "          # initiate training - remember we don't know anything about how the \n",
        "          #   agent is doing until it has crashed!\n",
        "          train_step(cartpole_model, optimizer, \n",
        "                     observations=np.vstack(memory.observations),\n",
        "                     actions=np.array(memory.actions),\n",
        "                     discounted_rewards = discount_rewards(memory.rewards))\n",
        "          \n",
        "          # reset the memory\n",
        "          memory.clear()\n",
        "          break\n",
        "      # update our observatons\n",
        "      observation = next_observation"
      ],
      "execution_count": 27,
      "outputs": [
        {
          "output_type": "display_data",
          "data": {
            "image/png": "[encoded data removed]",
            "text/plain": [
              "<Figure size 432x288 with 1 Axes>"
            ]
          },
          "metadata": {
            "tags": []
          }
        },
        {
          "output_type": "display_data",
          "data": {
            "image/png": "[encoded data removed]",
            "text/plain": [
              "<Figure size 432x288 with 1 Axes>"
            ]
          },
          "metadata": {
            "tags": []
          }
        }
      ]
    },
    {
      "cell_type": "markdown",
      "metadata": {
        "id": "mkcUtGF1VE-K",
        "colab_type": "text"
      },
      "source": [
        "To get a sense of how our agent did, we can save a video of the trained model working on balancing the pole. Realize that this is a brand new environment that the agent has not seen before!\n",
        "\n",
        "Let's display the saved video to watch how our agent did!\n"
      ]
    },
    {
      "cell_type": "code",
      "metadata": {
        "id": "PAYBkv6Zbk0J",
        "colab_type": "code",
        "colab": {
          "base_uri": "https://localhost:8080/",
          "height": 473
        },
        "outputId": "63f16ffc-44ab-4da3-caee-dcc53d183b94"
      },
      "source": [
        "saved_cartpole = mdl.lab3.save_video_of_model(cartpole_model, \"CartPole-v0\")\n",
        "mdl.lab3.play_video(saved_cartpole)"
      ],
      "execution_count": 28,
      "outputs": [
        {
          "output_type": "stream",
          "text": [
            "/usr/local/lib/python3.6/dist-packages/gym/logger.py:30: UserWarning: \u001b[33mWARN: Box bound precision lowered by casting to float32\u001b[0m\n",
            "  warnings.warn(colorize('%s: %s'%('WARN', msg % args), 'yellow'))\n"
          ],
          "name": "stderr"
        },
        {
          "output_type": "stream",
          "text": [
            "Successfully saved 200 frames into CartPole-v0.mp4!\n"
          ],
          "name": "stdout"
        },
        {
          "output_type": "execute_result",
          "data": {
            "text/html": [
              "\n",
              "        <video controls>\n",
              "            <source src=\"data:video/mp4;base64,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\" type=\"video/mp4\" />\n",
              "        </video>"
            ],
            "text/plain": [
              "<IPython.core.display.HTML object>"
            ]
          },
          "metadata": {
            "tags": []
          },
          "execution_count": 28
        }
      ]
    },
    {
      "cell_type": "markdown",
      "metadata": {
        "id": "CSbVNDpaVb3_",
        "colab_type": "text"
      },
      "source": [
        "How does the agent perform? Could you train it for shorter amounts of time and still perform well? Do you think that training longer would help even more? "
      ]
    },
    {
      "cell_type": "markdown",
      "metadata": {
        "id": "Eu6Mqxc720ST",
        "colab_type": "text"
      },
      "source": [
        "#Part 2: Pong\n",
        "\n",
        "In Cartpole, we dealt with an environment that was static -- in other words, it didn't change over time. What happens if our environment is dynamic and unpredictable? Well that's exactly the case in [Pong](https://en.wikipedia.org/wiki/Pong), since part of the environment is the opposing player. We don't know how our opponent will act or react to our actions, so the complexity of our problem increases. It also becomes much more interesting, since we can compete to beat our opponent. RL provides a powerful framework for training AI systems with the ability to handle and interact with dynamic, unpredictable environments. In this part of the lab, we'll use the tools and workflow we explored in Part 1 to build an RL agent capable of playing the game of Pong.\n"
      ]
    },
    {
      "cell_type": "markdown",
      "metadata": {
        "id": "srZ4YE29isuA",
        "colab_type": "text"
      },
      "source": [
        "## 3.6 Define and inspect the Pong environment\n",
        "\n",
        "As with Cartpole, we'll instantiate the Pong environment in the OpenAI gym, using a seed of 1."
      ]
    },
    {
      "cell_type": "code",
      "metadata": {
        "id": "lbYHLr66i15n",
        "colab_type": "code",
        "colab": {}
      },
      "source": [
        "env = gym.make(\"Pong-v0\", frameskip=5)\n",
        "env.seed(1); # for reproducibility"
      ],
      "execution_count": 0,
      "outputs": []
    },
    {
      "cell_type": "markdown",
      "metadata": {
        "id": "52uZ2Xhyi-MW",
        "colab_type": "text"
      },
      "source": [
        "Let's next consider the observation space for the Pong environment. Instead of four physical descriptors of the cart-pole setup, in the case of Pong our observations are the individual video frames (i.e., images) that depict the state of the board. Thus, the observations are 210x160 RGB images (arrays of shape (210,160,3)).\n",
        "\n",
        "We can again confirm the size of the observation space by query:"
      ]
    },
    {
      "cell_type": "code",
      "metadata": {
        "id": "0yX4GWvxjnHS",
        "colab_type": "code",
        "colab": {
          "base_uri": "https://localhost:8080/",
          "height": 34
        },
        "outputId": "e1949fe5-7a7c-425f-f2b4-4f0635817f03"
      },
      "source": [
        "print(\"Environment has observation space =\", env.observation_space)"
      ],
      "execution_count": 30,
      "outputs": [
        {
          "output_type": "stream",
          "text": [
            "Environment has observation space = Box(210, 160, 3)\n"
          ],
          "name": "stdout"
        }
      ]
    },
    {
      "cell_type": "markdown",
      "metadata": {
        "id": "uuEC2TdSjx9D",
        "colab_type": "text"
      },
      "source": [
        "In Pong, at every time step, the agent (which controls the paddle) has six actions to choose from: no-op (no operation), move right, move left, fire, fire right, and fire left. Let's confirm the size of the action space by querying the environment:"
      ]
    },
    {
      "cell_type": "code",
      "metadata": {
        "id": "Iuy9oPc1kag3",
        "colab_type": "code",
        "colab": {
          "base_uri": "https://localhost:8080/",
          "height": 34
        },
        "outputId": "8248d8de-d1fd-49ab-9f2c-8772e08ce536"
      },
      "source": [
        "n_actions = env.action_space.n\n",
        "print(\"Number of possible actions that the agent can choose from =\", n_actions)"
      ],
      "execution_count": 31,
      "outputs": [
        {
          "output_type": "stream",
          "text": [
            "Number of possible actions that the agent can choose from = 6\n"
          ],
          "name": "stdout"
        }
      ]
    },
    {
      "cell_type": "markdown",
      "metadata": {
        "id": "9-fghDRigUE5",
        "colab_type": "text"
      },
      "source": [
        "## 3.7 Define the Pong agent\n",
        "\n",
        "As before, we'll use a neural network to define our agent. What network architecture do you think would be especially well suited to this game? Since our observations are now in the form of images, we'll add convolutional layers to the network to increase the learning capacity of our network."
      ]
    },
    {
      "cell_type": "code",
      "metadata": {
        "id": "IJiqbFYpgYRH",
        "colab_type": "code",
        "colab": {}
      },
      "source": [
        "### Define the Pong agent ###\n",
        "\n",
        "# Functionally define layers for convenience\n",
        "# All convolutional layers will have ReLu activation\n",
        "Conv2D = functools.partial(tf.keras.layers.Conv2D, padding='same', activation='relu')\n",
        "Flatten = tf.keras.layers.Flatten\n",
        "Dense = tf.keras.layers.Dense\n",
        "\n",
        "# Defines a CNN for the Pong agent\n",
        "def create_pong_model():\n",
        "  model = tf.keras.models.Sequential([\n",
        "    # Convolutional layers\n",
        "    # First, 16 7x7 filters with 4x4 stride\n",
        "    Conv2D(filters=16, kernel_size=7, strides=4),\n",
        "\n",
        "    # TODO: define convolutional layers with 32 5x5 filters and 2x2 stride\n",
        "    Conv2D(filters=32, kernel_size=5, strides=2),\n",
        "\n",
        "    # TODO: define convolutional layers with 48 3x3 filters and 2x2 stride\n",
        "    Conv2D(filters=48, kernel_size=3, strides=2),\n",
        "\n",
        "    Flatten(),\n",
        "    \n",
        "    # Fully connected layer and output\n",
        "    Dense(units=64, activation='relu'),\n",
        "    # TODO: define the output dimension of the last Dense layer. \n",
        "    # Pay attention to the space the agent needs to act in\n",
        "    Dense(n_actions, activation=None)\n",
        "  \n",
        "  ])\n",
        "  return model\n",
        "\n",
        "pong_model = create_pong_model()"
      ],
      "execution_count": 0,
      "outputs": []
    },
    {
      "cell_type": "markdown",
      "metadata": {
        "id": "yaeZ067olFiJ",
        "colab_type": "text"
      },
      "source": [
        "Since we've already defined the action function, `choose_action(model, observation)`, we don't need to define it again. Instead, we'll be able to reuse it later on by passing in our new model we've just created, `pong_model`. This is awesome because our action function provides a modular and generalizable method for all sorts of RL agents!"
      ]
    },
    {
      "cell_type": "markdown",
      "metadata": {
        "id": "l0RvqOVkmc2r",
        "colab_type": "text"
      },
      "source": [
        "## 3.8 Pong-specific functions\n",
        "\n",
        "In Part 1 (Cartpole), we implemented some key functions and classes to build and train our RL agent -- `choose_action(model, observation)` and the `Memory` class, for example. However, in getting ready to apply these to a new game like Pong, we might need to make some slight modifications. \n",
        "\n",
        "Namely, we need to think about what happens when a game ends. In Pong, we know a game has ended if the reward is +1 (we won!) or -1 (we lost unfortunately). Otherwise, we expect the reward at a timestep to be zero -- the players (or agents) are just playing eachother. So, after a game ends, we will need to reset the reward to zero when a game ends. This will result in a modified reward function."
      ]
    },
    {
      "cell_type": "code",
      "metadata": {
        "id": "iEZG2o50luLu",
        "colab_type": "code",
        "colab": {}
      },
      "source": [
        "### Pong reward function ###\n",
        "\n",
        "# Compute normalized, discounted rewards for Pong (i.e., return)\n",
        "# Arguments:\n",
        "#   rewards: reward at timesteps in episode\n",
        "#   gamma: discounting factor. Note increase to 0.99 -- rate of depreciation will be slower.\n",
        "# Returns:\n",
        "#   normalized discounted reward\n",
        "def discount_rewards(rewards, gamma=0.99): \n",
        "  discounted_rewards = np.zeros_like(rewards)\n",
        "  R = 0\n",
        "  for t in reversed(range(0, len(rewards))):\n",
        "      # NEW: Reset the sum if the reward is not 0 (the game has ended!)\n",
        "      if rewards[t] != 0:\n",
        "        R = 0\n",
        "      # update the total discounted reward as before\n",
        "      R = R * gamma + rewards[t]\n",
        "      discounted_rewards[t] = R\n",
        "      \n",
        "  return normalize(discounted_rewards)"
      ],
      "execution_count": 0,
      "outputs": []
    },
    {
      "cell_type": "markdown",
      "metadata": {
        "id": "HopLpb4IoOqA",
        "colab_type": "text"
      },
      "source": [
        "Additionally, we have to consider the nature of the observations in the Pong environment, and how they will be fed into our network. Our observations in this case are images. Before we input an image into our network, we'll do a bit of pre-processing to crop and scale, clean up the background colors to a single color, and set the important game elements to a single color. Let's use this function to visualize what an observation might look like before and after pre-processing."
      ]
    },
    {
      "cell_type": "code",
      "metadata": {
        "id": "no5IIYtFm8pI",
        "colab_type": "code",
        "colab": {
          "base_uri": "https://localhost:8080/",
          "height": 226
        },
        "outputId": "63c745cc-d41b-4840-a28a-415b6dc5f5a7"
      },
      "source": [
        "observation = env.reset()\n",
        "for i in range(30):\n",
        "  observation, _,_,_ = env.step(0)\n",
        "observation_pp = mdl.lab3.preprocess_pong(observation)\n",
        "\n",
        "f = plt.figure(figsize=(10,3))\n",
        "ax = f.add_subplot(121)\n",
        "ax2 = f.add_subplot(122)\n",
        "ax.imshow(observation); ax.grid(False);\n",
        "ax2.imshow(np.squeeze(observation_pp)); ax2.grid(False); plt.title('Preprocessed Observation');"
      ],
      "execution_count": 34,
      "outputs": [
        {
          "output_type": "display_data",
          "data": {
            "image/png": "[encoded data removed]",
            "text/plain": [
              "<Figure size 720x216 with 2 Axes>"
            ]
          },
          "metadata": {
            "tags": []
          }
        }
      ]
    },
    {
      "cell_type": "markdown",
      "metadata": {
        "id": "bYwIWC-Cz8F2",
        "colab_type": "text"
      },
      "source": [
        "What do you notice? How might these changes be important for training our RL algorithm?"
      ]
    },
    {
      "cell_type": "markdown",
      "metadata": {
        "id": "mRqcaDQ1pm3x",
        "colab_type": "text"
      },
      "source": [
        "## 3.9 Training Pong\n",
        "\n",
        "We're now all set up to start training our RL algorithm and agent for the game of Pong! We've already defined our loss function with `compute_loss`, which employs policy gradient learning, as well as our backpropagation step with `train_step` which is beautiful! We will use these functions to execute training the Pong agent. Let's walk through the training block.\n",
        "\n",
        "In Pong, rather than feeding our network one image at a time, it can actually improve performance to input the difference between two consecutive observations, which really gives us information about the movement between frames -- how the game is changing. We'll first pre-process the raw observation, `x`, and then we'll compute the difference with the image frame we saw one timestep before. \n",
        "\n",
        "This observation change will be forward propagated through our Pong agent, the CNN network model, which will then predict the next action to take based on this observation. The raw reward will be computed, and the observation, action, and reward will be recorded into memory. This will continue until a training episode, i.e., a game, ends.\n",
        "\n",
        "Then, we will compute the discounted rewards, and use this information to execute a training step. Memory will be cleared, and we will do it all over again!\n",
        "\n",
        "Let's run the code block to train our Pong agent. Note that completing training will take quite a bit of time (estimated at least a couple of hours). We will again visualize the evolution of the total reward as a function of training to get a sense of how the agent is learning."
      ]
    },
    {
      "cell_type": "code",
      "metadata": {
        "id": "xCwyQQrPnkZG",
        "colab_type": "code",
        "colab": {
          "base_uri": "https://localhost:8080/",
          "height": 278
        },
        "outputId": "41b01ba7-8112-4b02-c023-2570736ddfdd"
      },
      "source": [
        "### Training Pong ###\n",
        "\n",
        "# Hyperparameters\n",
        "learning_rate=1e-4\n",
        "MAX_ITERS = 10000 # increase the maximum number of episodes, since Pong is more complex!\n",
        "\n",
        "# Model and optimizer\n",
        "pong_model = create_pong_model()\n",
        "optimizer = tf.keras.optimizers.Adam(learning_rate)\n",
        "\n",
        "# plotting\n",
        "smoothed_reward = mdl.util.LossHistory(smoothing_factor=0.9)\n",
        "plotter = mdl.util.PeriodicPlotter(sec=5, xlabel='Iterations', ylabel='Rewards')\n",
        "memory = Memory()\n",
        "\n",
        "for i_episode in range(MAX_ITERS):\n",
        "\n",
        "  plotter.plot(smoothed_reward.get())\n",
        "\n",
        "  # Restart the environment\n",
        "  observation = env.reset()\n",
        "  previous_frame = mdl.lab3.preprocess_pong(observation)\n",
        "\n",
        "  while True:\n",
        "      # Pre-process image \n",
        "      current_frame = mdl.lab3.preprocess_pong(observation)\n",
        "      \n",
        "      '''TODO: determine the observation change\n",
        "      Hint: this is the difference between the past two frames'''\n",
        "      obs_change = current_frame - previous_frame\n",
        "      \n",
        "      '''TODO: choose an action for the pong model, using the frame difference, and evaluate'''\n",
        "      action = choose_action(pong_model, obs_change)\n",
        "      # Take the chosen action\n",
        "      next_observation, reward, done, info = env.step(action)\n",
        "\n",
        "      '''TODO: save the observed frame difference, the action that was taken, and the resulting reward!'''\n",
        "      memory.add_to_memory(obs_change, action, reward)\n",
        "      \n",
        "      # is the episode over? did you crash or do so well that you're done?\n",
        "      if done:\n",
        "          # determine total reward and keep a record of this\n",
        "          total_reward = sum(memory.rewards)\n",
        "          smoothed_reward.append( total_reward )\n",
        "\n",
        "          # begin training\n",
        "          train_step(pong_model, \n",
        "                     optimizer, \n",
        "                     observations = np.stack(memory.observations, 0), \n",
        "                     actions = np.array(memory.actions),\n",
        "                     discounted_rewards = discount_rewards(memory.rewards))\n",
        "          \n",
        "          memory.clear()\n",
        "          break\n",
        "\n",
        "      observation = next_observation\n",
        "      previous_frame = current_frame"
      ],
      "execution_count": 0,
      "outputs": [
        {
          "output_type": "display_data",
          "data": {
            "image/png": "[encoded data removed]",
            "text/plain": [
              "<Figure size 432x288 with 1 Axes>"
            ]
          },
          "metadata": {
            "tags": []
          }
        }
      ]
    },
    {
      "cell_type": "markdown",
      "metadata": {
        "id": "8LiEY5Y_ts-Z",
        "colab_type": "text"
      },
      "source": [
        "Finally we can put our trained agent to the test! It will play in a newly instantiated Pong environment against the \"computer\", a base AI system for Pong. Your agent plays as the green paddle. Let's watch the match instant replay!"
      ]
    },
    {
      "cell_type": "code",
      "metadata": {
        "id": "TvHXbkL0tR6M",
        "colab_type": "code",
        "colab": {}
      },
      "source": [
        "saved_pong = mdl.lab3.save_video_of_model(\n",
        "    pong_model, \"Pong-v0\", obs_diff=True, \n",
        "    pp_fn=mdl.lab3.preprocess_pong)\n",
        "mdl.lab3.play_video(saved_pong)"
      ],
      "execution_count": 0,
      "outputs": []
    },
    {
      "cell_type": "markdown",
      "metadata": {
        "id": "TIlwIgBP3Js6",
        "colab_type": "text"
      },
      "source": [
        "## 3.10 Conclusion\n",
        "\n",
        "That's it! Congratulations on training two RL agents and putting them to the test! We encourage you to consider the following:\n",
        "\n",
        "*   How does the agent perform?\n",
        "*   Could you train it for shorter amounts of time  and still perform well?\n",
        "*   Do you think that training longer would help even more? \n",
        "* How does the complexity of Pong relative to Cartpole alter the rate at which the agent learns and its performance? \n",
        "* What are some things you could change about the agent or the learning process to potentially improve performance?\n",
        "\n",
        "If you want to go further, try to optimize your model to achieve the best performance! **[Email us](mailto:introtodeeplearning-staff@mit.edu) a copy of your notebook with the Pong training executed AND a saved video of your Pong agent competing! We'll give out prizes to the best performers!**"
      ]
    }
  ]
}